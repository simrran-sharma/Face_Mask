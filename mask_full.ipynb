{
  "nbformat": 4,
  "nbformat_minor": 0,
  "metadata": {
    "colab": {
      "name": "mask-full.ipynb",
      "provenance": [],
      "collapsed_sections": []
    },
    "kernelspec": {
      "name": "python3",
      "display_name": "Python 3"
    }
  },
  "cells": [
    {
      "cell_type": "code",
      "metadata": {
        "colab": {
          "base_uri": "https://localhost:8080/"
        },
        "id": "hRO4axk-qXhf",
        "outputId": "06c3500f-1767-46dc-a5b5-11134139e99a"
      },
      "source": [
        "!git clone https://github.com/simrran-sharma/face_mask_detection.git\r\n",
        "%cd face_mask_detection"
      ],
      "execution_count": null,
      "outputs": [
        {
          "output_type": "stream",
          "text": [
            "Cloning into 'face_mask_detection'...\n",
            "remote: Enumerating objects: 15, done.\u001b[K\n",
            "remote: Counting objects: 100% (15/15), done.\u001b[K\n",
            "remote: Compressing objects: 100% (14/14), done.\u001b[K\n",
            "remote: Total 15 (delta 1), reused 0 (delta 0), pack-reused 0\u001b[K\n",
            "Unpacking objects: 100% (15/15), done.\n",
            "/content/face_mask_detection\n"
          ],
          "name": "stdout"
        }
      ]
    },
    {
      "cell_type": "code",
      "metadata": {
        "id": "LbuNY2i5qoky"
      },
      "source": [
        "import cv2\r\n",
        "import os\r\n",
        "from tensorflow.keras.preprocessing.image import img_to_array\r\n",
        "from tensorflow.keras.models import load_model\r\n",
        "from tensorflow.keras.applications.mobilenet_v2 import preprocess_input\r\n",
        "import numpy as np\r\n",
        "from google.colab.patches import cv2_imshow\r\n",
        "\r\n",
        "faceCascade = cv2.CascadeClassifier(\"haarcascade_frontalface_alt2.xml\")\r\n",
        "model = load_model(\"mask_recog.h5\")\r\n",
        "\r\n",
        "def face_mask_detector(frame):\r\n",
        "  # frame = cv2.imread(fileName)\r\n",
        "  gray = cv2.cvtColor(frame, cv2.COLOR_BGR2GRAY)\r\n",
        "  faces = faceCascade.detectMultiScale(gray,\r\n",
        "                                        scaleFactor=1.1,\r\n",
        "                                        minNeighbors=5,\r\n",
        "                                        minSize=(60, 60),\r\n",
        "                                        flags=cv2.CASCADE_SCALE_IMAGE)\r\n",
        "  faces_list=[]\r\n",
        "  preds=[]\r\n",
        "  for (x, y, w, h) in faces:\r\n",
        "      face_frame = frame[y:y+h,x:x+w]\r\n",
        "      face_frame = cv2.cvtColor(face_frame, cv2.COLOR_BGR2RGB)\r\n",
        "      face_frame = cv2.resize(face_frame, (224, 224))\r\n",
        "      face_frame = img_to_array(face_frame)\r\n",
        "      face_frame = np.expand_dims(face_frame, axis=0)\r\n",
        "      face_frame =  preprocess_input(face_frame)\r\n",
        "      faces_list.append(face_frame)\r\n",
        "      if len(faces_list)>0:\r\n",
        "          preds = model.predict(faces_list)\r\n",
        "      for pred in preds:\r\n",
        "          (mask, withoutMask) = pred\r\n",
        "      label = \"Mask\" if mask > withoutMask else \"No Mask\"\r\n",
        "      color = (0, 255, 0) if label == \"Mask\" else (0, 0, 255)\r\n",
        "      label = \"{}: {:.2f}%\".format(label, max(mask, withoutMask) * 100)\r\n",
        "      cv2.putText(frame, label, (x, y- 10),\r\n",
        "                  cv2.FONT_HERSHEY_SIMPLEX, 1, color, 2)\r\n",
        "\r\n",
        "      cv2.rectangle(frame, (x, y), (x + w, y + h),color, 3)\r\n",
        "  # cv2_imshow(frame)\r\n",
        "  return frame"
      ],
      "execution_count": null,
      "outputs": []
    },
    {
      "cell_type": "code",
      "metadata": {
        "id": "OYKMUTVSqrli"
      },
      "source": [
        "from IPython.display import display, Javascript\r\n",
        "from google.colab.output import eval_js\r\n",
        "from base64 import b64decode\r\n",
        "\r\n",
        "def take_photo(filename='photo.jpg', quality=0.8):\r\n",
        "  js = Javascript('''\r\n",
        "    async function takePhoto(quality) {\r\n",
        "      const div = document.createElement('div');\r\n",
        "      const capture = document.createElement('button');\r\n",
        "      capture.textContent = 'Capture';\r\n",
        "      div.appendChild(capture);\r\n",
        "\r\n",
        "      const video = document.createElement('video');\r\n",
        "      video.style.display = 'block';\r\n",
        "      const stream = await navigator.mediaDevices.getUserMedia({video: true});\r\n",
        "\r\n",
        "      document.body.appendChild(div);\r\n",
        "      div.appendChild(video);\r\n",
        "      video.srcObject = stream;\r\n",
        "      await video.play();\r\n",
        "\r\n",
        "      // Resize the output to fit the video element.\r\n",
        "      google.colab.output.setIframeHeight(document.documentElement.scrollHeight, true);\r\n",
        "\r\n",
        "      // Wait for Capture to be clicked.\r\n",
        "      await new Promise((resolve) => capture.onclick = resolve);\r\n",
        "\r\n",
        "      const canvas = document.createElement('canvas');\r\n",
        "      canvas.width = video.videoWidth;\r\n",
        "      canvas.height = video.videoHeight;\r\n",
        "      canvas.getContext('2d').drawImage(video, 0, 0);\r\n",
        "      stream.getVideoTracks()[0].stop();\r\n",
        "      div.remove();\r\n",
        "      return canvas.toDataURL('image/jpeg', quality);\r\n",
        "    }\r\n",
        "    ''')\r\n",
        "  display(js)\r\n",
        "  data = eval_js('takePhoto({})'.format(quality))\r\n",
        "  binary = b64decode(data.split(',')[1])\r\n",
        "  with open(filename, 'wb') as f:\r\n",
        "    f.write(binary)\r\n",
        "  return filename"
      ],
      "execution_count": null,
      "outputs": []
    },
    {
      "cell_type": "code",
      "metadata": {
        "id": "hE4xd54HqwFm"
      },
      "source": [
        "from IPython.display import Image\r\n",
        "try:\r\n",
        "  filename = take_photo()\r\n",
        "  print('Saved to {}'.format(filename))\r\n",
        "  \r\n",
        "  # Show the image which was just taken.\r\n",
        "  display(Image(filename))\r\n",
        "except Exception as err:\r\n",
        "  # Errors will be thrown if the user does not have a webcam or if they do not\r\n",
        "  # grant the page permission to access it.\r\n",
        "  print(str(err))"
      ],
      "execution_count": null,
      "outputs": []
    },
    {
      "cell_type": "code",
      "metadata": {
        "id": "WroEzVVCqyur"
      },
      "source": [
        "input_image = cv2.imread(\"photo.jpg\")\r\n",
        "output = face_mask_detector(input_image)\r\n",
        "cv2_imshow(output)"
      ],
      "execution_count": null,
      "outputs": []
    }
  ]
}